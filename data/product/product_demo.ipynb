{
 "cells": [
  {
   "cell_type": "markdown",
   "metadata": {},
   "source": [
    "# 1. 유명한 데이터 추리기"
   ]
  },
  {
   "cell_type": "code",
   "execution_count": 23,
   "metadata": {},
   "outputs": [],
   "source": [
    "import pandas as pd\n",
    "import xml.etree.ElementTree as ET\n",
    "from pathlib import Path\n",
    "import os\n",
    "from tqdm import tqdm\n",
    "import shutil\n",
    "\n",
    "DATA_PATH = \"../csv_files\"\n",
    "pd.set_option('display.max_colwidth', None)\n",
    "pd.set_option('display.max_row', None)"
   ]
  },
  {
   "cell_type": "code",
   "execution_count": 2,
   "metadata": {},
   "outputs": [],
   "source": [
    "products_df = pd.read_csv(os.path.join(DATA_PATH,\"products.csv\"), encoding=\"utf-8\")\n",
    "category_df = pd.read_csv(os.path.join(DATA_PATH,\"category.csv\"), encoding=\"utf-8\")\n",
    "products_to_disliked_df = pd.read_csv(os.path.join(DATA_PATH,\"products_to_disliked.csv\"), encoding=\"utf-8\")\n",
    "all_df = pd.merge(products_df, category_df, left_on=\"category_id\", right_on=\"id\", how=\"inner\")"
   ]
  },
  {
   "cell_type": "code",
   "execution_count": 11,
   "metadata": {},
   "outputs": [],
   "source": [
    "available_products = set(products_to_disliked_df['product_id'])"
   ]
  },
  {
   "cell_type": "code",
   "execution_count": 18,
   "metadata": {},
   "outputs": [],
   "source": [
    "snack_df = all_df[all_df['cat_1']=='과자'].drop(columns=['id_y']).rename(columns={\"id_x\":\"id\"})\n",
    "snack_filtered_df = snack_df[snack_df['id'].isin(available_products)]\n",
    "snack_filtered_df = snack_filtered_df[snack_filtered_df['cat_2']!='껌']\n",
    "#add = snack_df[snack_df['id'].isin({1029,1445,669,985,961,979,758,785,996,968,989,724,837,838})]\n",
    "#snack_filtered_df = pd.concat([snack_filtered_df , add])\n",
    "#snack_filtered_df = snack_filtered_df.drop([1165])\n",
    "\n",
    "#print(snack_filtered_df.shape)\n",
    "#display(snack_filtered_df)"
   ]
  },
  {
   "cell_type": "markdown",
   "metadata": {},
   "source": [
    "# 2. 이미지 데이터"
   ]
  },
  {
   "cell_type": "markdown",
   "metadata": {},
   "source": [
    "1) annotations 폴더를 돌아다니면서, 해당하지 않는 데이터의 폴더는 지워버림\n",
    "2) 해당하는 데이터를 만나면 checked true로 바꿈"
   ]
  },
  {
   "cell_type": "markdown",
   "metadata": {},
   "source": [
    "## Train"
   ]
  },
  {
   "cell_type": "code",
   "execution_count": 2,
   "metadata": {},
   "outputs": [
    {
     "data": {
      "text/html": [
       "<div>\n",
       "<style scoped>\n",
       "    .dataframe tbody tr th:only-of-type {\n",
       "        vertical-align: middle;\n",
       "    }\n",
       "\n",
       "    .dataframe tbody tr th {\n",
       "        vertical-align: top;\n",
       "    }\n",
       "\n",
       "    .dataframe thead th {\n",
       "        text-align: right;\n",
       "    }\n",
       "</style>\n",
       "<table border=\"1\" class=\"dataframe\">\n",
       "  <thead>\n",
       "    <tr style=\"text-align: right;\">\n",
       "      <th></th>\n",
       "      <th>product_id</th>\n",
       "      <th>category_id</th>\n",
       "      <th>item_no</th>\n",
       "      <th>barcode</th>\n",
       "      <th>name</th>\n",
       "      <th>comp_nm</th>\n",
       "      <th>cat_1</th>\n",
       "      <th>cat_2</th>\n",
       "      <th>cat_3</th>\n",
       "      <th>cat_4</th>\n",
       "    </tr>\n",
       "  </thead>\n",
       "  <tbody>\n",
       "    <tr>\n",
       "      <th>0</th>\n",
       "      <td>614</td>\n",
       "      <td>49</td>\n",
       "      <td>15049</td>\n",
       "      <td>8801037089059</td>\n",
       "      <td>동서 오레오 초콜릿 샌드위치 쿠키 100G</td>\n",
       "      <td>동서식품</td>\n",
       "      <td>과자</td>\n",
       "      <td>비스킷</td>\n",
       "      <td>샌드</td>\n",
       "      <td>샌드</td>\n",
       "    </tr>\n",
       "    <tr>\n",
       "      <th>1</th>\n",
       "      <td>704</td>\n",
       "      <td>50</td>\n",
       "      <td>25029</td>\n",
       "      <td>8801019314759</td>\n",
       "      <td>해태 사브레 252G</td>\n",
       "      <td>해태</td>\n",
       "      <td>과자</td>\n",
       "      <td>비스킷</td>\n",
       "      <td>쿠키</td>\n",
       "      <td>쿠키</td>\n",
       "    </tr>\n",
       "    <tr>\n",
       "      <th>2</th>\n",
       "      <td>707</td>\n",
       "      <td>50</td>\n",
       "      <td>25043</td>\n",
       "      <td>8801117277611</td>\n",
       "      <td>오리온 다이제 초코 312G</td>\n",
       "      <td>오리온</td>\n",
       "      <td>과자</td>\n",
       "      <td>비스킷</td>\n",
       "      <td>쿠키</td>\n",
       "      <td>쿠키</td>\n",
       "    </tr>\n",
       "  </tbody>\n",
       "</table>\n",
       "</div>"
      ],
      "text/plain": [
       "   product_id  category_id item_no        barcode                     name  \\\n",
       "0         614           49   15049  8801037089059  동서 오레오 초콜릿 샌드위치 쿠키 100G   \n",
       "1         704           50   25029  8801019314759              해태 사브레 252G   \n",
       "2         707           50   25043  8801117277611          오리온 다이제 초코 312G   \n",
       "\n",
       "  comp_nm cat_1 cat_2 cat_3 cat_4  \n",
       "0    동서식품    과자   비스킷    샌드    샌드  \n",
       "1      해태    과자   비스킷    쿠키    쿠키  \n",
       "2     오리온    과자   비스킷    쿠키    쿠키  "
      ]
     },
     "execution_count": 2,
     "metadata": {},
     "output_type": "execute_result"
    }
   ],
   "source": [
    "train_list_df = pd.read_csv(os.path.join(DATA_PATH, \"train_list.csv\"), encoding=\"utf-8\")\n",
    "train_list_df.head(3)"
   ]
  },
  {
   "cell_type": "code",
   "execution_count": 8,
   "metadata": {},
   "outputs": [
    {
     "name": "stdout",
     "output_type": "stream",
     "text": [
      "D:/dataset/상품 이미지/Training/annotations\n"
     ]
    }
   ],
   "source": [
    "DATA_ANNO_PATH = \"D:/dataset/상품 이미지/Training/annotations\"\n",
    "checked = [False for _ in range(0, 100)]\n",
    "print(DATA_ANNO_PATH)"
   ]
  },
  {
   "cell_type": "code",
   "execution_count": 16,
   "metadata": {},
   "outputs": [
    {
     "name": "stdout",
     "output_type": "stream",
     "text": [
      "['[라벨]과자1', '[라벨]과자2', '[라벨]과자3', '[라벨]과자4', '[라벨]디저트', '[라벨]면류', '[라벨]상온HMR1', '[라벨]상온HMR2', '[라벨]상온HMR3', '[라벨]소스1', '[라벨]소스2', '[라벨]음료1', '[라벨]음료2', '[라벨]음료3', '[라벨]통조림_안주']\n"
     ]
    }
   ],
   "source": [
    "dirs = os.scandir(DATA_ANNO_PATH)\n",
    "dir_list = []\n",
    "for dir in dirs:\n",
    "    if \".zip\" in dir.name:\n",
    "        continue\n",
    "    dir_list.append(dir.name)\n",
    "print(dir_list)"
   ]
  },
  {
   "cell_type": "code",
   "execution_count": 20,
   "metadata": {},
   "outputs": [],
   "source": [
    "item_no_list = list(train_list_df['item_no'])\n",
    "item_no_set = set(item_no_list)\n",
    "item_no_dict = dict()\n",
    "for i in range(0, 100):\n",
    "    item_no_dict[item_no_list[i]] = i"
   ]
  },
  {
   "cell_type": "code",
   "execution_count": 24,
   "metadata": {},
   "outputs": [],
   "source": [
    "for dir in dir_list: # [라벨]~\n",
    "    subpath = os.path.join(DATA_ANNO_PATH, dir) # 상품아이템\n",
    "    subdirs = os.scandir(subpath)\n",
    "\n",
    "    for subdir in subdirs:\n",
    "        i_no = subdir.name.split(\"_\")[0]\n",
    "        if i_no in item_no_set:\n",
    "            idx = item_no_dict[i_no]\n",
    "            checked[idx] = True\n",
    "            continue\n",
    "        \n",
    "        shutil.rmtree(subdir)"
   ]
  },
  {
   "cell_type": "code",
   "execution_count": 25,
   "metadata": {},
   "outputs": [],
   "source": [
    "for i in range(0, 100):\n",
    "    if not checked[i]:\n",
    "        print(i) # 어노테이션 다 있음"
   ]
  },
  {
   "cell_type": "markdown",
   "metadata": {},
   "source": [
    "## Validation"
   ]
  },
  {
   "cell_type": "code",
   "execution_count": 27,
   "metadata": {},
   "outputs": [],
   "source": [
    "DATA_ANNO_PATH_V = \"D:/dataset/상품 이미지/Validation/annotations\"\n",
    "item_no_list_v = list(train_list_df['item_no'])\n",
    "item_no_set_v = set(item_no_list)\n",
    "item_no_dict_v = dict()\n",
    "checked_v = [False for _ in range(0, 100)]\n",
    "for i in range(0, 100):\n",
    "    item_no_dict_v[item_no_list_v[i]] = i"
   ]
  },
  {
   "cell_type": "code",
   "execution_count": 28,
   "metadata": {},
   "outputs": [
    {
     "name": "stdout",
     "output_type": "stream",
     "text": [
      "['[라벨]과자', '[라벨]면류', '[라벨]상온HMR', '[라벨]소스', '[라벨]음료']\n"
     ]
    }
   ],
   "source": [
    "dirs = os.scandir(DATA_ANNO_PATH_V)\n",
    "dir_list = []\n",
    "for dir in dirs:\n",
    "    if \".zip\" in dir.name:\n",
    "        continue\n",
    "    dir_list.append(dir.name)\n",
    "print(dir_list)"
   ]
  },
  {
   "cell_type": "code",
   "execution_count": 29,
   "metadata": {},
   "outputs": [],
   "source": [
    "for dir in dir_list: # [라벨]~\n",
    "    subpath = os.path.join(DATA_ANNO_PATH_V, dir) # 상품아이템\n",
    "    subdirs = os.scandir(subpath)\n",
    "\n",
    "    for subdir in subdirs:\n",
    "        i_no = subdir.name.split(\"_\")[0]\n",
    "        if i_no in item_no_set_v:\n",
    "            idx = item_no_dict_v[i_no]\n",
    "            checked_v[idx] = True\n",
    "            continue\n",
    "        \n",
    "        shutil.rmtree(subdir)"
   ]
  },
  {
   "cell_type": "code",
   "execution_count": 30,
   "metadata": {},
   "outputs": [],
   "source": [
    "for i in range(0, 100):\n",
    "    if not checked_v[i]:\n",
    "        print(i) # 어노테이션 다 있음"
   ]
  },
  {
   "cell_type": "code",
   "execution_count": null,
   "metadata": {},
   "outputs": [],
   "source": []
  }
 ],
 "metadata": {
  "kernelspec": {
   "display_name": "Python 3",
   "language": "python",
   "name": "python3"
  },
  "language_info": {
   "codemirror_mode": {
    "name": "ipython",
    "version": 3
   },
   "file_extension": ".py",
   "mimetype": "text/x-python",
   "name": "python",
   "nbconvert_exporter": "python",
   "pygments_lexer": "ipython3",
   "version": "3.12.1"
  }
 },
 "nbformat": 4,
 "nbformat_minor": 2
}
